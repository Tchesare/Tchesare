{
 "cells": [
  {
   "cell_type": "code",
   "execution_count": null,
   "metadata": {},
   "outputs": [],
   "source": [
    "import os\n",
    "import requests\n",
    "import json\n",
    "from numpy import *\n",
    "import pandas as pd\n",
    "import matplotlib.pyplot as plt\n",
    "from mpl_toolkits.mplot3d import Axes3D\n",
    "import  datetime as dt\n",
    "import matplotlib.dates as mdates \n",
    "\n",
    "from importlib.machinery import SourceFileLoader # for import of functions.py\n",
    "\n",
    "Utils = SourceFileLoader('Utils', r'C:\\VSCODE\\JupyterForshiftingIRDVol\\Python\\utils.py').load_module()\n",
    "from Utils import *\n",
    "\n",
    "myFunctions = SourceFileLoader('myFunctions', r'C:\\VsCode/Python/functions.py').load_module() \n",
    "from myFunctions import get_value_ByKeyPath"
   ]
  },
  {
   "cell_type": "code",
   "execution_count": 14,
   "metadata": {},
   "outputs": [],
   "source": [
    "def process_qps_response(response_from_service,data_path='data[0]',headers_path='headers') :\n",
    "    '''\n",
    "        response can be none , have a status ok or not\n",
    "    '''\n",
    "    if response_from_service is None :\n",
    "        \n",
    "        return 'No Data','No Headers'\n",
    "\n",
    "    elif not response_from_service.ok :\n",
    "\n",
    "        return response_from_service.text\n",
    "\n",
    "    else : \n",
    "        r_json =response_from_service.json()\n",
    "\n",
    "        # data=r_json['data'][0] #=[value1, value2,... …]\n",
    "        data,headers = get_value_ByKeyPath(r_json,data_path) ,  get_value_ByKeyPath(r_json,headers_path) \n",
    "\n",
    "        # headers = r_json['headers'] ; #[{name:field1,type:t1}]      \n",
    "\n",
    "        return data,headers#,data         "
   ]
  },
  {
   "cell_type": "code",
   "execution_count": 19,
   "metadata": {},
   "outputs": [
    {
     "name": "stdout",
     "output_type": "stream",
     "text": [
      "{'bid': 128.42208, 'ask': 128.479134, 'mid': 128.450607, 'processingInformation': ''}\n"
     ]
    }
   ],
   "source": [
    "dev_endpoint=\"http://qps-valuationasl-204937-main-development.apt-preprod.aws-int.thomsonreuters.com/request\"\n",
    "\n",
    "dev_headers = {\n",
    "\n",
    "    \"Content-type\":\"application/json\",\n",
    "\n",
    "    \"X-Tr-Uuid\": \"PADACT-001\",\n",
    "\n",
    "    \"X-Tr-ApplicationId\": \"QPSInternal\"\n",
    "\n",
    "}\n",
    "\n",
    "# request_path =r'C:\\'' #r\"C:\\VSCODE\\Python\\NoteBook\\body.json\"\n",
    "request_path =r\"C:\\VSCODE\\Python\\NoteBook\\body.json\"\n",
    "# with open(request_path) as f:\n",
    "#     file_contents = f.read()\n",
    "\n",
    "# fx_request = json.loads(file_contents)\n",
    "\n",
    "# with open(request_path) as f: fx_request = json.load(f) ; print(fx_request)\n",
    "\n",
    "fx_request=load_json_from_file(request_path)\n",
    "\n",
    "response = post_request_to_qps(dev_endpoint,fx_request,dev_headers)\n",
    "\n",
    "# print(response.json())\n",
    "\n",
    "a,b=process_qps_response(response) \n",
    "\n",
    "print(a[0])       "
   ]
  },
  {
   "cell_type": "code",
   "execution_count": null,
   "metadata": {},
   "outputs": [],
   "source": [
    "dev_endpoint=\"http://qps-valuationasl-204937-main-development.apt-preprod.aws-int.thomsonreuters.com/request\"\n",
    "\n",
    "dev_headers = {\n",
    "\n",
    "    \"Content-type\":\"application/json\",\n",
    "\n",
    "    \"X-Tr-Uuid\": \"PADACT-001\",\n",
    "\n",
    "    \"X-Tr-ApplicationId\": \"QPSInternal\"\n",
    "\n",
    "}\n",
    "\n",
    "# request_path =r'C:\\'' #r\"C:\\VSCODE\\Python\\NoteBook\\body.json\"\n",
    "request_path =r\"C:\\VSCODE\\Python\\NoteBook\\body.json\"\n",
    "# with open(request_path) as f:\n",
    "#     file_contents = f.read()\n",
    "\n",
    "# fx_request = json.loads(file_contents)\n",
    "\n",
    "# with open(request_path) as f: fx_request = json.load(f) ; print(fx_request)\n",
    "\n",
    "fx_request=load_json_from_file(request_path)\n",
    "\n",
    "response = post_request_to_qps(dev_endpoint,fx_request,dev_headers)\n",
    "\n",
    "# print(response.json())\n",
    "\n",
    "a,b=process_qps_response(response) \n",
    "\n",
    "print(a[0])       "
   ]
  }
 ],
 "metadata": {
  "interpreter": {
   "hash": "30a3bf83bf8c9f72f4772ed23899ddb3dd89cc8af54025f6620e73eeaa01f66b"
  },
  "kernelspec": {
   "display_name": "Python 3.9.5 64-bit",
   "name": "python3"
  },
  "language_info": {
   "codemirror_mode": {
    "name": "ipython",
    "version": 3
   },
   "file_extension": ".py",
   "mimetype": "text/x-python",
   "name": "python",
   "nbconvert_exporter": "python",
   "pygments_lexer": "ipython3",
   "version": "3.9.5"
  },
  "orig_nbformat": 4
 },
 "nbformat": 4,
 "nbformat_minor": 2
}
