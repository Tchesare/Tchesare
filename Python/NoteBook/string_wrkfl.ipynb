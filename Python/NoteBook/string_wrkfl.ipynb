{
 "cells": [
  {
   "cell_type": "markdown",
   "metadata": {},
   "source": [
    "### Strings"
   ]
  },
  {
   "cell_type": "code",
   "execution_count": null,
   "metadata": {},
   "outputs": [],
   "source": [
    "message = 'Hello World'\n",
    "print(message)\n",
    "\n",
    "message = \"Bobby 's World \" # using double quotes to specify python single quote i not the end of the string\n",
    "print(message)\n",
    "\n",
    "message = 'Bobby  says : \"Hello\" \\n' # inverse logic\n",
    "print(message)\n",
    "\n",
    "message = '''Bobby  says : \"Hello\" \n",
    "Mary responded : \"Hi Bobby \"''' # multiple line string\n",
    "print(message)\n",
    "\n"
   ]
  },
  {
   "cell_type": "markdown",
   "metadata": {},
   "source": [
    "### Slicing Srtings"
   ]
  },
  {
   "cell_type": "code",
   "execution_count": null,
   "metadata": {},
   "outputs": [],
   "source": [
    "message = 'Hello World'\n",
    "\n",
    "#First character of the string\n",
    "print(message[0])\n",
    "\n",
    "#First 5 characters of the string\n",
    "print(message[0:5])\n",
    "\n",
    "#Last characters from 5th character of the string\n",
    "print(message[6:])\n"
   ]
  },
  {
   "cell_type": "markdown",
   "metadata": {},
   "source": [
    "### String Functions"
   ]
  },
  {
   "cell_type": "code",
   "execution_count": null,
   "metadata": {},
   "outputs": [],
   "source": [
    "message = 'Hello Man'\n",
    "\n",
    "#Number of letters and spaces\n",
    "print(len(message))\n",
    "\n",
    "#lower case\n",
    "print(message.lower())\n",
    "\n",
    "#upper case\n",
    "print(message.upper())\n",
    "\n",
    "#num of occurences of sub string\n",
    "print(message.count('el'))\n",
    "\n",
    "#num place of the sub string\n",
    "print(message.find('Man'))\n",
    "\n",
    "#replace sub string with\n",
    "new_message=message.replace('Man','Woman')\n",
    "print(message)\n",
    "print(new_message)\n",
    "\n",
    "\n",
    "\n"
   ]
  },
  {
   "cell_type": "markdown",
   "metadata": {},
   "source": [
    "### Combine strings using F-strings"
   ]
  },
  {
   "cell_type": "code",
   "execution_count": null,
   "metadata": {},
   "outputs": [],
   "source": [
    "greeting = 'Hello'\n",
    "name='Bobby'\n",
    "\n",
    "message =f'{greeting}  {name}. Welcome! '\n",
    "print(message)"
   ]
  },
  {
   "cell_type": "markdown",
   "metadata": {},
   "source": [
    "### Methods and attributes of str class"
   ]
  },
  {
   "cell_type": "code",
   "execution_count": null,
   "metadata": {},
   "outputs": [],
   "source": [
    "name='Kamel'\n",
    "print(dir(name))\n",
    "\n",
    "print()\n",
    "\n",
    "print(help(str))"
   ]
  }
 ],
 "metadata": {
  "interpreter": {
   "hash": "30a3bf83bf8c9f72f4772ed23899ddb3dd89cc8af54025f6620e73eeaa01f66b"
  },
  "kernelspec": {
   "display_name": "Python 3.9.5 64-bit",
   "name": "python3"
  },
  "language_info": {
   "codemirror_mode": {
    "name": "ipython",
    "version": 3
   },
   "file_extension": ".py",
   "mimetype": "text/x-python",
   "name": "python",
   "nbconvert_exporter": "python",
   "pygments_lexer": "ipython3",
   "version": "3.9.5"
  },
  "orig_nbformat": 4
 },
 "nbformat": 4,
 "nbformat_minor": 2
}
