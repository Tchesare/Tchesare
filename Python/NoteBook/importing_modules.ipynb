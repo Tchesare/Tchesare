{
 "cells": [
  {
   "cell_type": "markdown",
   "metadata": {},
   "source": [
    "### BEST WAY TO  IMPORT MODULE\n",
    "### Go to env varaible on windows\n",
    "### add a new  variable with name= PYTHONPTH value =path of the module "
   ]
  },
  {
   "cell_type": "code",
   "execution_count": 4,
   "metadata": {
    "dotnet_interactive": {
     "language": "csharp"
    }
   },
   "outputs": [
    {
     "ename": "ModuleNotFoundError",
     "evalue": "No module named 'my_module'",
     "output_type": "error",
     "traceback": [
      "\u001b[1;31m---------------------------------------------------------------------------\u001b[0m",
      "\u001b[1;31mModuleNotFoundError\u001b[0m                       Traceback (most recent call last)",
      "\u001b[1;32m<ipython-input-4-fa58174fc880>\u001b[0m in \u001b[0;36m<module>\u001b[1;34m\u001b[0m\n\u001b[0;32m      1\u001b[0m \u001b[1;31m# import my_module\u001b[0m\u001b[1;33m\u001b[0m\u001b[1;33m\u001b[0m\u001b[1;33m\u001b[0m\u001b[0m\n\u001b[1;32m----> 2\u001b[1;33m \u001b[1;32mfrom\u001b[0m \u001b[0mmy_module\u001b[0m \u001b[1;32mimport\u001b[0m \u001b[0mfind_index\u001b[0m\u001b[1;33m,\u001b[0m\u001b[0mtest\u001b[0m\u001b[1;33m\u001b[0m\u001b[1;33m\u001b[0m\u001b[0m\n\u001b[0m\u001b[0;32m      3\u001b[0m \u001b[1;32mimport\u001b[0m \u001b[0msys\u001b[0m \u001b[1;31m#(importing the path where pythin looks for imports)\u001b[0m\u001b[1;33m\u001b[0m\u001b[1;33m\u001b[0m\u001b[0m\n",
      "\u001b[1;31mModuleNotFoundError\u001b[0m: No module named 'my_module'"
     ]
    }
   ],
   "source": [
    "# import my_module\n",
    "from my_module import find_index,test\n",
    "import sys #(importing the path where pythin looks for imports)\n"
   ]
  },
  {
   "cell_type": "code",
   "execution_count": null,
   "metadata": {
    "dotnet_interactive": {
     "language": "csharp"
    }
   },
   "outputs": [],
   "source": [
    "courses = ['History','Math','Physics','CompSci']\n",
    "\n",
    "index = find_index(courses,'Math')\n",
    "\n",
    "print(index)\n",
    "print(test)"
   ]
  },
  {
   "cell_type": "markdown",
   "metadata": {},
   "source": [
    "### Sys . path shows the paths where pythonlooks by default "
   ]
  },
  {
   "cell_type": "code",
   "execution_count": null,
   "metadata": {
    "dotnet_interactive": {
     "language": "csharp"
    }
   },
   "outputs": [],
   "source": [
    "print(sys.path)"
   ]
  },
  {
   "cell_type": "markdown",
   "metadata": {},
   "source": [
    "### Try to import my functions won t work as its path is not in the sys.path\n",
    "### sends this error 'ModuleNotFoundError: No module named 'functions'"
   ]
  },
  {
   "cell_type": "code",
   "execution_count": null,
   "metadata": {
    "dotnet_interactive": {
     "language": "csharp"
    }
   },
   "outputs": [],
   "source": [
    "import functions"
   ]
  },
  {
   "cell_type": "markdown",
   "metadata": {},
   "source": [
    "### To avoi that let s add functions.py path to sys path list"
   ]
  },
  {
   "cell_type": "code",
   "execution_count": 10,
   "metadata": {
    "dotnet_interactive": {
     "language": "fsharp"
    }
   },
   "outputs": [
    {
     "name": "stdout",
     "output_type": "stream",
     "text": [
      "c:\\VSCODE\\Python\\NoteBook\n",
      "c:\\Users\\U0168118\\.vscode\\extensions\\ms-toolsai.jupyter-2021.9.1101343141\\pythonFiles\n",
      "c:\\Users\\U0168118\\.vscode\\extensions\\ms-toolsai.jupyter-2021.9.1101343141\\pythonFiles\\lib\\python\n",
      "C:\\Users\\U0168118\\AppData\\Local\\Programs\\Python\\Python39\\python39.zip\n",
      "C:\\Users\\U0168118\\AppData\\Local\\Programs\\Python\\Python39\\DLLs\n",
      "C:\\Users\\U0168118\\AppData\\Local\\Programs\\Python\\Python39\\lib\n",
      "C:\\Users\\U0168118\\AppData\\Local\\Programs\\Python\\Python39\n",
      "\n",
      "C:\\Users\\U0168118\\AppData\\Roaming\\Python\\Python39\\site-packages\n",
      "C:\\Users\\U0168118\\AppData\\Roaming\\Python\\Python39\\site-packages\\win32\n",
      "C:\\Users\\U0168118\\AppData\\Roaming\\Python\\Python39\\site-packages\\win32\\lib\n",
      "C:\\Users\\U0168118\\AppData\\Roaming\\Python\\Python39\\site-packages\\Pythonwin\n",
      "C:\\Users\\U0168118\\AppData\\Local\\Programs\\Python\\Python39\\lib\\site-packages\n",
      "C:\\Users\\U0168118\\AppData\\Roaming\\Python\\Python39\\site-packages\\IPython\\extensions\n",
      "C:\\Users\\U0168118\\.ipython\n",
      "C://VSCODE//Python//my_module.py\n",
      "C:\\VSCODE\\Python\\my_module.py\n",
      "C:\\VSCODE\\Python\\my_module.py\n"
     ]
    },
    {
     "ename": "ModuleNotFoundError",
     "evalue": "No module named 'my_module'",
     "output_type": "error",
     "traceback": [
      "\u001b[1;31m---------------------------------------------------------------------------\u001b[0m",
      "\u001b[1;31mModuleNotFoundError\u001b[0m                       Traceback (most recent call last)",
      "\u001b[1;32m<ipython-input-10-771efb5cc5e6>\u001b[0m in \u001b[0;36m<module>\u001b[1;34m\u001b[0m\n\u001b[0;32m      4\u001b[0m \u001b[1;32mfor\u001b[0m \u001b[0mx\u001b[0m \u001b[1;32min\u001b[0m \u001b[0msys\u001b[0m\u001b[1;33m.\u001b[0m\u001b[0mpath\u001b[0m\u001b[1;33m:\u001b[0m\u001b[0mprint\u001b[0m\u001b[1;33m(\u001b[0m\u001b[0mx\u001b[0m\u001b[1;33m)\u001b[0m\u001b[1;33m\u001b[0m\u001b[1;33m\u001b[0m\u001b[0m\n\u001b[0;32m      5\u001b[0m \u001b[1;33m\u001b[0m\u001b[0m\n\u001b[1;32m----> 6\u001b[1;33m \u001b[1;32mimport\u001b[0m \u001b[0mmy_module\u001b[0m\u001b[1;33m\u001b[0m\u001b[1;33m\u001b[0m\u001b[0m\n\u001b[0m",
      "\u001b[1;31mModuleNotFoundError\u001b[0m: No module named 'my_module'"
     ]
    }
   ],
   "source": [
    "import sys\n",
    "# sys.path.append(r\"C:\\VSCODE\\Python\\functions.py\")\n",
    "sys.path.append(\"C:\\VSCODE\\Python\\my_module.py\")\n",
    "for x in sys.path:print(x)\n",
    "\n",
    "import my_module"
   ]
  },
  {
   "cell_type": "code",
   "execution_count": 8,
   "metadata": {
    "dotnet_interactive": {
     "language": "csharp"
    }
   },
   "outputs": [
    {
     "name": "stdout",
     "output_type": "stream",
     "text": [
      "C:\\VSCODE\\Python\\my_module.py is in system.path\n"
     ]
    }
   ],
   "source": [
    "r'C:\\VSCODE\\Python\\my_module.py'\n",
    "path = \"C:\\VSCODE\\Python\\my_module.py\"\n",
    "if path  in sys.path:\n",
    "    # sys.path.insert(0, path)\n",
    "    print(f'{path} is in system.path')"
   ]
  },
  {
   "cell_type": "code",
   "execution_count": 9,
   "metadata": {},
   "outputs": [
    {
     "ename": "ModuleNotFoundError",
     "evalue": "No module named 'functions'",
     "output_type": "error",
     "traceback": [
      "\u001b[1;31m---------------------------------------------------------------------------\u001b[0m",
      "\u001b[1;31mModuleNotFoundError\u001b[0m                       Traceback (most recent call last)",
      "\u001b[1;32m<ipython-input-9-3ebe1c619d24>\u001b[0m in \u001b[0;36m<module>\u001b[1;34m\u001b[0m\n\u001b[1;32m----> 1\u001b[1;33m \u001b[1;32mimport\u001b[0m \u001b[0mfunctions\u001b[0m\u001b[1;33m\u001b[0m\u001b[1;33m\u001b[0m\u001b[0m\n\u001b[0m\u001b[0;32m      2\u001b[0m \u001b[0mx\u001b[0m\u001b[1;33m=\u001b[0m\u001b[0mfunctions\u001b[0m\u001b[1;33m.\u001b[0m\u001b[0mgenerateEikonObject\u001b[0m\u001b[1;33m(\u001b[0m\u001b[1;33m)\u001b[0m\u001b[1;33m\u001b[0m\u001b[1;33m\u001b[0m\u001b[0m\n\u001b[0;32m      3\u001b[0m \u001b[0mprint\u001b[0m\u001b[1;33m(\u001b[0m\u001b[0mx\u001b[0m\u001b[1;33m)\u001b[0m\u001b[1;33m\u001b[0m\u001b[1;33m\u001b[0m\u001b[0m\n",
      "\u001b[1;31mModuleNotFoundError\u001b[0m: No module named 'functions'"
     ]
    }
   ],
   "source": [
    "import functions\n",
    "x=functions.generateEikonObject()\n",
    "print(x)"
   ]
  }
 ],
 "metadata": {
  "interpreter": {
   "hash": "30a3bf83bf8c9f72f4772ed23899ddb3dd89cc8af54025f6620e73eeaa01f66b"
  },
  "kernelspec": {
   "display_name": "Python 3.9.5 64-bit",
   "name": "python3"
  },
  "language_info": {
   "codemirror_mode": {
    "name": "ipython",
    "version": 3
   },
   "file_extension": ".py",
   "mimetype": "text/x-python",
   "name": "python",
   "nbconvert_exporter": "python",
   "pygments_lexer": "ipython3",
   "version": "3.9.5"
  },
  "orig_nbformat": 4
 },
 "nbformat": 4,
 "nbformat_minor": 2
}
