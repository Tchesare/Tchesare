{
 "cells": [
  {
   "cell_type": "code",
   "execution_count": null,
   "metadata": {},
   "outputs": [],
   "source": [
    "import datetime"
   ]
  },
  {
   "cell_type": "markdown",
   "metadata": {},
   "source": [
    "# Working with datetime\n",
    "### for years , months and days"
   ]
  },
  {
   "cell_type": "markdown",
   "metadata": {},
   "source": [
    "### Create a date object"
   ]
  },
  {
   "cell_type": "code",
   "execution_count": null,
   "metadata": {},
   "outputs": [],
   "source": [
    "#Year/month/day\n",
    "d=datetime.date(2021,10,30) \n",
    "print (f'd is the {d.day}th day of the {d.month}th month of the year {d.year} ')\n",
    "\n",
    "#today\n",
    "td=datetime.date.today()\n",
    "print (f'today  : {td}')\n",
    "\n",
    "#Printing the week day (monday:0,...,sunday:6)\n",
    "print(f'td is the {td.weekday()+1}th day of the week')\n",
    "\n",
    "#priting isoweekday (monday:1,...,sunday:7)\n",
    "print(td.isoweekday())\n"
   ]
  },
  {
   "cell_type": "markdown",
   "metadata": {},
   "source": [
    "### Time deltas"
   ]
  },
  {
   "cell_type": "code",
   "execution_count": null,
   "metadata": {},
   "outputs": [],
   "source": [
    "#Defining a time delta object\n",
    "time_delta=datetime.timedelta(days=7)\n",
    "\n",
    "td=datetime.date.today()\n",
    "print (f'today  : {td}')\n",
    "\n",
    "#Adding this delta \n",
    "td_plus_delta=td+time_delta\n",
    "print (f'today plus 7 days : {td_plus_delta}')\n",
    "\n",
    "#Substract this delta \n",
    "td_minus_delta=td-time_delta\n",
    "print (f'today minus 7 days : {td_minus_delta}')\n",
    "\n",
    "\n",
    "#Genrating a time delta\n",
    "time_delta2=td_plus_delta-td_minus_delta\n",
    "print (f'Time delta between td_plus_delta and td_minus_delta : {time_delta2}')\n",
    "\n",
    "print (f'Time delta between td_plus_delta and td_minus_delta in days: {time_delta2.days}')\n",
    "\n",
    "#Using the total_secinds method to display the number of seconds that lays between td_plus_delta and td_minus_delta\n",
    "print (f'Time delta between td_plus_delta and td_minus_delta in seconds: {time_delta2.total_seconds()}')"
   ]
  },
  {
   "cell_type": "markdown",
   "metadata": {},
   "source": [
    "# Working with detetime.time\n",
    "#### For hours,minutes,seconds,microseconds"
   ]
  },
  {
   "cell_type": "code",
   "execution_count": null,
   "metadata": {},
   "outputs": [],
   "source": [
    "#Time as hours, minutes, sec,microseconds\n",
    "t=datetime.time(9,30,45,100000)\n",
    "print(t)\n",
    "\n",
    "print (f't is {t.hour} hours, {t.minute} minutes, {t.second}, seconds and {t.microsecond} microseconds')\n"
   ]
  },
  {
   "cell_type": "markdown",
   "metadata": {},
   "source": [
    "# Working with datetime.datetime \n",
    "### Enable to  access years,month,days,hours,seconds etc..."
   ]
  },
  {
   "cell_type": "code",
   "execution_count": null,
   "metadata": {},
   "outputs": [],
   "source": [
    "#basic constructor of the class\n",
    "dt=datetime.datetime(2021,10,30,13,30,45,100000)\n",
    "print (f'd is the {dt.day}th day of the {dt.month}th month of the year {dt.year} with '+\n",
    "    f'dt is {dt.hour} hours, {dt.minute} minutes, {dt.second}, seconds and {dt.microsecond} microseconds\\n'\n",
    ")\n",
    "\n",
    "#WE can access the time\n",
    "print(f'Time of dt is : {dt.time()}\\n')\n",
    "\n",
    "#WE can access the year or other properties\n",
    "print(f'Year of dt is : {dt.year}')\n",
    "\n",
    "#WE can access the year or other properties\n",
    "print(f'Year of dt is : {dt.microsecond}')\n",
    "\n",
    "\n",
    "#Let s add som days to dt\n",
    "tdelta = datetime.timedelta(days=7)\n",
    "#Dt + 7 days\n",
    "print(f'dt + 7 days  : {dt+tdelta}')\n",
    "\n",
    "tdelta = datetime.timedelta(seconds=7)\n",
    "#Dt + 7 seconds\n",
    "print(f'dt + 7 seconds  : {dt+tdelta}')"
   ]
  },
  {
   "cell_type": "markdown",
   "metadata": {},
   "source": [
    "# Date formats"
   ]
  },
  {
   "cell_type": "markdown",
   "metadata": {},
   "source": [
    "To display a datetime object we ll use the strftime() function, which converts the time object to a readable string in a specified format. This function is available in both the datetime module and time module in Python.\n",
    "For the format should take a look at python doc to see aall the available format (see https://pythonexamples.org/python-datetime-format/)"
   ]
  },
  {
   "cell_type": "markdown",
   "metadata": {},
   "source": [
    "### From datetime object to string"
   ]
  },
  {
   "cell_type": "code",
   "execution_count": null,
   "metadata": {},
   "outputs": [],
   "source": [
    "# Construct a date object\n",
    "dt=datetime.datetime.today()\n",
    "print (f'today is the {dt.day}th day of the {dt.month}th month of the year {dt.year} with '+\n",
    "    f'dt is {dt.hour} hours, {dt.minute} minutes, {dt.second}, seconds and {dt.microsecond} microseconds\\n'\n",
    ")\n",
    "\n",
    "# Datetime object to string formated\n",
    "frmt=\"%A, %dth of %B %Y\"\n",
    "\n",
    "dt_string = dt.strftime(frmt)\n",
    "print(f'today  is : {dt_string}\\n')\n",
    "\n",
    "print(f'dt is still of {type(dt)} type,  dt_string is of {type(dt_string)} type')"
   ]
  },
  {
   "cell_type": "code",
   "execution_count": null,
   "metadata": {},
   "outputs": [],
   "source": [
    "days_frmts = ['%a','%A','%w','%d']   \n",
    "# %a    Wed\t3 characters in length ;\n",
    "# %A\t#Wednesday\tWeekday, full version\n",
    "# %w\t#3\tWeekday as a number 0-6, 0 is Sunday ;  \n",
    "# %d\t#31 \n",
    "\n",
    "months_frmt = ['%b','%B','%m']   \n",
    "# %b    DEc\t3 characters ; \n",
    "# %B\tDecember\tMonth name, full version\n",
    "# %m\tMonth as a number 01-12,\n",
    "\n",
    "\n",
    "years_frmt = ['%y','%Y']   \n",
    "# %y    Year, short version, without century (2021)\n",
    "# %Y\tYear, full version\n",
    "\n",
    "seplist = [' ', '-','/']\n",
    "\n",
    "all_fmt=[f'{d}{s}{m}{s}{y}' for d in days_frmts for m in months_frmt for y in years_frmt for s in seplist]\n",
    "\n",
    "#Loping through all the format to generate a list of string for the same date\n",
    "\n",
    "for f in all_fmt :\n",
    "    print(dt.strftime(f))"
   ]
  },
  {
   "cell_type": "markdown",
   "metadata": {},
   "source": [
    "### From datetime string to object datetime"
   ]
  },
  {
   "cell_type": "code",
   "execution_count": null,
   "metadata": {},
   "outputs": [],
   "source": [
    "#Using the method strptime to generate adatetime object frim a formated tring\n",
    "# In this example, I have imported a module called datetime, passed a variable as dt_string = “2020-12-18“\n",
    "# and assigned format = “%Y-%m-%d” .\n",
    "# I have used strptime string. This string represents a time according to format.\n",
    "# dt_object = datetime.datetime.strptime(dt_string, format)"
   ]
  },
  {
   "cell_type": "code",
   "execution_count": 6,
   "metadata": {},
   "outputs": [
    {
     "ename": "NameError",
     "evalue": "name 'datetime' is not defined",
     "output_type": "error",
     "traceback": [
      "\u001b[1;31m---------------------------------------------------------------------------\u001b[0m",
      "\u001b[1;31mNameError\u001b[0m                                 Traceback (most recent call last)",
      "\u001b[1;32m<ipython-input-6-733b158de643>\u001b[0m in \u001b[0;36m<module>\u001b[1;34m\u001b[0m\n\u001b[0;32m      2\u001b[0m \u001b[0mdt_string\u001b[0m \u001b[1;33m=\u001b[0m \u001b[1;34m'2020-12-18'\u001b[0m \u001b[1;31m#18 dec 2020\u001b[0m\u001b[1;33m\u001b[0m\u001b[1;33m\u001b[0m\u001b[0m\n\u001b[0;32m      3\u001b[0m \u001b[0mdt_format\u001b[0m\u001b[1;33m=\u001b[0m\u001b[1;34m\"%Y-%m-%d\"\u001b[0m\u001b[1;33m\u001b[0m\u001b[1;33m\u001b[0m\u001b[0m\n\u001b[1;32m----> 4\u001b[1;33m \u001b[0mdt_object\u001b[0m \u001b[1;33m=\u001b[0m \u001b[0mdatetime\u001b[0m\u001b[1;33m.\u001b[0m\u001b[0mdatetime\u001b[0m\u001b[1;33m.\u001b[0m\u001b[0mstrptime\u001b[0m\u001b[1;33m(\u001b[0m\u001b[0mdt_string\u001b[0m\u001b[1;33m,\u001b[0m \u001b[0mdt_format\u001b[0m\u001b[1;33m)\u001b[0m\u001b[1;33m\u001b[0m\u001b[1;33m\u001b[0m\u001b[0m\n\u001b[0m\u001b[0;32m      5\u001b[0m \u001b[0mprint\u001b[0m\u001b[1;33m(\u001b[0m\u001b[1;34mf'dt_oject is of {type(dt_object)}. It represents the {dt_object.day}th day of the {dt_object.month}th month of the year {dt_object.year}'\u001b[0m\u001b[1;33m)\u001b[0m\u001b[1;33m\u001b[0m\u001b[1;33m\u001b[0m\u001b[0m\n",
      "\u001b[1;31mNameError\u001b[0m: name 'datetime' is not defined"
     ]
    }
   ],
   "source": [
    "# date to qps format\n",
    "dt_string = '2020-12-18' #18 dec 2020\n",
    "dt_format=\"%Y-%m-%d\"\n",
    "dt_object = datetime.datetime.strptime(dt_string, dt_format)\n",
    "print(f'dt_oject is of {type(dt_object)}. It represents the {dt_object.day}th day of the {dt_object.month}th month of the year {dt_object.year}')"
   ]
  },
  {
   "cell_type": "markdown",
   "metadata": {},
   "source": [
    "# Lib Functions"
   ]
  },
  {
   "cell_type": "markdown",
   "metadata": {},
   "source": [
    "### Convert any date to qps_format"
   ]
  },
  {
   "cell_type": "code",
   "execution_count": 7,
   "metadata": {},
   "outputs": [
    {
     "name": "stdout",
     "output_type": "stream",
     "text": [
      "qps_dt_string is of type <class 'str'> , with value : 2019-05-30\n",
      "Error in < convert_date_to_qps_format > function --> 'NoneType' object has no attribute 'strftime'\n",
      "qps_dt_string1 is of type <class 'NoneType'> , with value : None\n"
     ]
    }
   ],
   "source": [
    "import datetime as dt\n",
    "\n",
    "def date_string_to_date_object(date_string):\n",
    "\n",
    "    \"\"\"Generic utility function: gets a date-string in either or the format here \n",
    "        [\"%m/%d/%Y\",\"%Y/%m/%d\", \"%d-%m-%Y\", \"%Y%m%d\",\"%Y-%m-%d\",\"%Y-%d-%m\"]\n",
    "        and sends back the corresponding date-object as a (datetime.datetime)\n",
    "        if not possible then return None\n",
    "    \"\"\"\n",
    "    accepted_fmt=[\"%m/%d/%Y\",\"%Y/%m/%d\", \"%d-%m-%Y\", \"%Y%d%m\", \"%Y%m%d\",\"%Y-%m-%d\",\"%Y-%d-%m\"]\n",
    "\n",
    "    for fmt in accepted_fmt :\n",
    "        try:\n",
    "            return dt.datetime.strptime(date_string, fmt).date()\n",
    "\n",
    "        except Exception :\n",
    "            continue\n",
    "\n",
    "\n",
    "def convert_date_string_to_qps_format(date_string):\n",
    "    \n",
    "    \"\"\"Generic utility function: gets a date in either or the format here \n",
    "        [\"%m/%d/%Y\",\"%Y/%m/%d\", \"%d-%m-%Y\", \"%Y%m%d\",\"%Y-%m-%d\",\"%Y-%d-%m\"]\n",
    "        and sends it ack to the QPS supported one '%Y-%m-%d'\n",
    "        if not possible then return None\n",
    "    \"\"\"\n",
    "    qps_fmt='%Y-%m-%d'# \"2021-03-22\"\n",
    "\n",
    "    dt_object=date_string_to_date_object(date_string)\n",
    "\n",
    "    try:\n",
    "        return  dt_object.strftime(qps_fmt)\n",
    "\n",
    "    except Exception as err: \n",
    "        print(f'Error in < convert_date_to_qps_format > function --> {err}')\n",
    "\n",
    "qps_dt_string = convert_date_string_to_qps_format('20193005')\n",
    "print(f'qps_dt_string is of type {type(qps_dt_string)} , with value : {qps_dt_string}')\n",
    "\n",
    "qps_dt_string1 = convert_date_string_to_qps_format(25)\n",
    "print(f'qps_dt_string1 is of type {type(qps_dt_string1)} , with value : {qps_dt_string1}')\n",
    "\n"
   ]
  },
  {
   "cell_type": "markdown",
   "metadata": {},
   "source": [
    "### Date to integer from 1 jan 1900\n",
    "#### To find the difference between two dates in Python, one can use the timedelta class which is present in the datetime library"
   ]
  },
  {
   "cell_type": "code",
   "execution_count": 14,
   "metadata": {},
   "outputs": [
    {
     "name": "stdout",
     "output_type": "stream",
     "text": [
      "dt_delta is of type <class 'datetime.timedelta'> , with value : 36 days, 10:04:20\n",
      "delta_days is of type <class 'int'>, with value: 36\n"
     ]
    }
   ],
   "source": [
    "import datetime as dt\n",
    "  \n",
    "# datetime(year, month, day, hour, minute, second)\n",
    "date_1 = dt.datetime(2017, 6, 21, 18, 25, 30)\n",
    "date_2 = dt.datetime(2017, 5, 16, 8, 21, 10)\n",
    "  \n",
    "# returns a timedelta object\n",
    "dt_delta = date_1-date_2\n",
    "print(f'dt_delta is of type {type(dt_delta)} , with value : {dt_delta}')\n",
    "  \n",
    "delta_days = dt_delta.days \n",
    "print(f'delta_days is of type {type(delta_days)}, with value: {delta_days}')\n",
    "\n"
   ]
  },
  {
   "cell_type": "code",
   "execution_count": 23,
   "metadata": {},
   "outputs": [
    {
     "name": "stdout",
     "output_type": "stream",
     "text": [
      "Error in < date_object_to_int > function --> unsupported operand type(s) for -: 'datetime.datetime' and 'datetime.date'\n",
      "dt_delta is of type <class 'NoneType'> , with value : None\n"
     ]
    }
   ],
   "source": [
    "import datetime as dt\n",
    "def date_object_to_int(datetime_obj):\n",
    "    \"\"\"\n",
    "        GEneral utility : returns dates in an adfin format i.e days from 1900\n",
    "        Input : datetime_obj as a datetime object\n",
    "        Ouptut : integer rpresenting the num of days from  1 jan 1900 datetime_obj \n",
    "    \"\"\"\n",
    "    first_jan_1900 = dt.date(1899, 12, 30)\n",
    "\n",
    "    try : \n",
    "        dt_delta = datetime_obj - first_jan_1900\n",
    "\n",
    "    except Exception as err: \n",
    "        print(f'Error in < date_object_to_int > function --> {err}')\n",
    "\n",
    "    else : \n",
    "            return dt_delta.days\n",
    "\n",
    "# datetime(year, month, day, hour, minute, second)\n",
    "date_1 = dt.datetime(2200, 7, 5, 18, 25, 30)\n",
    "\n",
    "# returns a timedelta object\n",
    "dt_to_int = date_object_to_int(date_1)\n",
    "print(f'dt_delta is of type {type(dt_to_int)} , with value : {dt_to_int}')\n",
    "              "
   ]
  },
  {
   "cell_type": "code",
   "execution_count": 29,
   "metadata": {},
   "outputs": [
    {
     "name": "stdout",
     "output_type": "stream",
     "text": [
      "type of new_date_obj is : <class 'datetime.date'>\n",
      "dt_adfin is of type <class 'int'> , with value : 42907\n",
      "type of new_date_obj is : <class 'datetime.date'>\n",
      "dt_adfin is of type <class 'int'> , with value : 65979\n"
     ]
    }
   ],
   "source": [
    "def convert_date_string_to_adfin_format(date_string):\n",
    "    \"\"\"Generic utility function: gets a date in either or the format here \n",
    "        [\"%m/%d/%Y\",\"%Y/%m/%d\", \"%d-%m-%Y\", \"%Y%m%d\"]and sends it ack to the ADFIN supported one\n",
    "        i.e integers \n",
    "        Example : 21-06-2017 returns 42907 and 21aug2080 65979\n",
    "    \"\"\"\n",
    "    new_date_obj = date_string_to_date_object(date_string)\n",
    "    print(f'type of new_date_obj is : {type(new_date_obj)}')\n",
    "\n",
    "    new_date_int = date_object_to_int(new_date_obj) \n",
    "\n",
    "    return new_date_int\n",
    "\n",
    "dt_string='2017-06-21'   #should retunr 42907\n",
    "dt_adfin = convert_date_string_to_adfin_format(dt_string)\n",
    "print(f'dt_adfin is of type {type(dt_adfin)} , with value : {dt_adfin}')\n",
    "\n",
    "dt_string='2080-08-21'  #should return 65979 \n",
    "dt_adfin = convert_date_string_to_adfin_format(dt_string) \n",
    "print(f'dt_adfin is of type {type(dt_adfin)} , with value : {dt_adfin}')\n",
    "    "
   ]
  }
 ],
 "metadata": {
  "interpreter": {
   "hash": "30a3bf83bf8c9f72f4772ed23899ddb3dd89cc8af54025f6620e73eeaa01f66b"
  },
  "kernelspec": {
   "display_name": "Python 3.9.5 64-bit",
   "name": "python3"
  },
  "language_info": {
   "codemirror_mode": {
    "name": "ipython",
    "version": 3
   },
   "file_extension": ".py",
   "mimetype": "text/x-python",
   "name": "python",
   "nbconvert_exporter": "python",
   "pygments_lexer": "ipython3",
   "version": "3.9.5"
  },
  "orig_nbformat": 4
 },
 "nbformat": 4,
 "nbformat_minor": 2
}
