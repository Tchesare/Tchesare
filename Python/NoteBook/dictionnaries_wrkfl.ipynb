{
 "cells": [
  {
   "cell_type": "markdown",
   "metadata": {},
   "source": [
    "## Access values"
   ]
  },
  {
   "cell_type": "code",
   "execution_count": 2,
   "metadata": {},
   "outputs": [
    {
     "name": "stdout",
     "output_type": "stream",
     "text": [
      "Zara\n",
      "'phone'\n",
      "21\n",
      "None\n",
      "No such key\n"
     ]
    }
   ],
   "source": [
    "student= {'Name': 'Zara', 'Age': 21, 'Class': 'First'}\n",
    "\n",
    "print(student['Name'])\n",
    "\n",
    "#if key do not exist then returns an error\n",
    "try : print(student['phone']) \n",
    "except Exception as ex:     print(str(ex))\n",
    "\n",
    "#we can the buitl in methode get\n",
    "print(student.get('Age'))\n",
    "print(student.get('phone')) # No phone key for the student\n",
    "print(student.get('phone','No such key')) # No phone key for the student\n",
    "\n",
    "\n"
   ]
  },
  {
   "cell_type": "markdown",
   "metadata": {},
   "source": [
    "## Update values"
   ]
  },
  {
   "cell_type": "code",
   "execution_count": 3,
   "metadata": {},
   "outputs": [
    {
     "name": "stdout",
     "output_type": "stream",
     "text": [
      "{'Name': 'Jane', 'Age': 21, 'Class': 'First'}\n",
      "{'Name': 'Jane', 'Age': 21, 'Class': 'First', 'phone': '06 12 12 12 12 '}\n",
      "{'Name': 'John', 'Age': 25, 'Class': 'First', 'phone': '06 12 12 12 12 ', 'Adress': ' 5 th code avenue, python', 'courses': ['Math', 'Python']}\n"
     ]
    }
   ],
   "source": [
    "student['Name']='Jane'\n",
    "print(student)\n",
    "\n",
    "# Add a key value\n",
    "student['phone']='06 12 12 12 12 '\n",
    "print(student)\n",
    "\n",
    "# using update keyword to add a key and update age and name\n",
    "student.update({'Name':'John','Age':25,'Adress':' 5 th code avenue, python','courses':['Math','Python']})\n",
    "print(student)\n",
    "\n"
   ]
  },
  {
   "cell_type": "markdown",
   "metadata": {},
   "source": [
    "### Delete Vaues"
   ]
  },
  {
   "cell_type": "code",
   "execution_count": 4,
   "metadata": {},
   "outputs": [
    {
     "name": "stdout",
     "output_type": "stream",
     "text": [
      "{'Name': 'John', 'Class': 'First', 'phone': '06 12 12 12 12 ', 'Adress': ' 5 th code avenue, python', 'courses': ['Math', 'Python']}\n",
      "{'Name': 'John', 'Class': 'First', 'phone': '06 12 12 12 12 ', 'courses': ['Math', 'Python']}\n",
      " 5 th code avenue, python\n"
     ]
    }
   ],
   "source": [
    "#Using del\n",
    "del student['Age']\n",
    "print(student)\n",
    "\n",
    "#  Using pop\n",
    "adress=student.pop('Adress') # pop returns the value erased from the dict\n",
    "print(student)\n",
    "print(adress)\n"
   ]
  },
  {
   "cell_type": "markdown",
   "metadata": {},
   "source": [
    "### loop through the values"
   ]
  },
  {
   "cell_type": "code",
   "execution_count": 5,
   "metadata": {},
   "outputs": [
    {
     "name": "stdout",
     "output_type": "stream",
     "text": [
      "dict_keys(['Name', 'Class', 'phone', 'courses'])\n",
      "dict_values(['John', 'First', '06 12 12 12 12 ', ['Math', 'Python']])\n",
      "dict_items([('Name', 'John'), ('Class', 'First'), ('phone', '06 12 12 12 12 '), ('courses', ['Math', 'Python'])])\n"
     ]
    }
   ],
   "source": [
    "# keys\n",
    "print(student.keys())\n",
    "\n",
    "# values\n",
    "print(student.values())\n",
    "\n",
    "# items\n",
    "print(student.items())\n",
    "\n"
   ]
  },
  {
   "cell_type": "markdown",
   "metadata": {},
   "source": [
    "### Items sends a list pf tuples with key values"
   ]
  },
  {
   "cell_type": "code",
   "execution_count": 6,
   "metadata": {},
   "outputs": [
    {
     "name": "stdout",
     "output_type": "stream",
     "text": [
      " Name : John \n",
      " Class : First \n",
      " phone : 06 12 12 12 12  \n",
      " courses : ['Math', 'Python'] \n"
     ]
    }
   ],
   "source": [
    "# Loop through th items\n",
    "for key,value in student.items() : print(f' {key} : {value} ')"
   ]
  }
 ],
 "metadata": {
  "interpreter": {
   "hash": "30a3bf83bf8c9f72f4772ed23899ddb3dd89cc8af54025f6620e73eeaa01f66b"
  },
  "kernelspec": {
   "display_name": "Python 3.9.5 64-bit",
   "name": "python3"
  },
  "language_info": {
   "codemirror_mode": {
    "name": "ipython",
    "version": 3
   },
   "file_extension": ".py",
   "mimetype": "text/x-python",
   "name": "python",
   "nbconvert_exporter": "python",
   "pygments_lexer": "ipython3",
   "version": "3.9.5"
  },
  "orig_nbformat": 4
 },
 "nbformat": 4,
 "nbformat_minor": 2
}
