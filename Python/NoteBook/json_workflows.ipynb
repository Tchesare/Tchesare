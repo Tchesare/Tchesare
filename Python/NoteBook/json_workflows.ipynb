{
 "cells": [
  {
   "cell_type": "markdown",
   "metadata": {},
   "source": [
    "## Small Codes of functions developped in my lib"
   ]
  },
  {
   "cell_type": "code",
   "execution_count": 119,
   "metadata": {},
   "outputs": [
    {
     "name": "stdout",
     "output_type": "stream",
     "text": [
      "Imported functions.py module...\n"
     ]
    }
   ],
   "source": [
    "import json\n",
    "from os import getcwd\n",
    "\n",
    "from importlib.machinery import SourceFileLoader # for import of functions.py\n",
    "\n",
    "myFunctions = SourceFileLoader('myFunctions', r'C:\\VsCode/Python/functions.py').load_module() \n",
    "from myFunctions import load_json_from_file,post_request_to_qps,get_key_value_by_path\n",
    "from myFunctions import process_qps_response,zip_headers_data,read_content_file,parse_payload\n",
    "from myFunctions import dump_dict_to_file"
   ]
  },
  {
   "cell_type": "code",
   "execution_count": 120,
   "metadata": {},
   "outputs": [
    {
     "name": "stdout",
     "output_type": "stream",
     "text": [
      "8.0\n",
      "Error in < cast_to_float > function --> could not convert string to float: 'skdjflskdfjlk87987/79764'\n",
      "\n",
      "Error in < cast_to_float > function --> float() argument must be a string or a number, not 'NoneType'\n",
      "\n"
     ]
    }
   ],
   "source": [
    "from myFunctions import cast_to_float\n",
    "print(cast_to_float('8'))\n",
    "cast_to_float('skdjflskdfjlk87987/79764')   \n",
    "cast_to_float(None)  "
   ]
  },
  {
   "cell_type": "markdown",
   "metadata": {},
   "source": [
    "# JSON and Python Dict"
   ]
  },
  {
   "cell_type": "markdown",
   "metadata": {},
   "source": [
    "### LOADS method (Function to get a python object from a json-string)"
   ]
  },
  {
   "cell_type": "code",
   "execution_count": null,
   "metadata": {},
   "outputs": [],
   "source": [
    "# some JSON-like string:\n",
    "x =  '{ \"name\":\"John\", \"age\":30, \"city\":\"New York\"}'\n",
    "\n",
    "# parse x with an indent\n",
    "y = json.loads(x)\n",
    "print(y)\n",
    "\n",
    "# the result is a Python dictionary:\n",
    "print(y[\"age\"])"
   ]
  },
  {
   "cell_type": "markdown",
   "metadata": {},
   "source": [
    "### Wrong Json-Like string"
   ]
  },
  {
   "cell_type": "code",
   "execution_count": null,
   "metadata": {},
   "outputs": [],
   "source": [
    "# some wrong JSON-like string (; delimiter instead of :)\n",
    "x =  '{ \"name\";\"John\", \"age\";30, \"city\";\"New York\"}'\n",
    "\n",
    "# parse x:\n",
    "try:\n",
    "    y = json.loads(x)\n",
    "except json.JSONDecodeError as err:  \n",
    "    print(f'JSONDecodeError when parsing the string {err}')\n",
    "else:\n",
    "    # the result is a Python dictionary:\n",
    "    print(y[\"age\"])\n"
   ]
  },
  {
   "cell_type": "markdown",
   "metadata": {},
   "source": [
    "### Writing a function with catch error"
   ]
  },
  {
   "cell_type": "code",
   "execution_count": null,
   "metadata": {},
   "outputs": [],
   "source": [
    "def json_like_string_to_dict(body):\n",
    "    #try to  parse the body using loads method from json python lib:\n",
    "    try:\n",
    "        dict_body = json.loads(body)\n",
    "\n",
    "    except json.JSONDecodeError as err:  \n",
    "        print(f'JSONDecodeError when parsing the string {err}')\n",
    "\n",
    "    else:\n",
    "        # the result is a Python dictionary:\n",
    "        return dict_body \n",
    "\n",
    "my_dict=json_like_string_to_dict('{\"a\":\"1\",\"b\":\"2\"}')\n",
    "print(my_dict['a'])"
   ]
  },
  {
   "cell_type": "markdown",
   "metadata": {},
   "source": [
    "### DUMPS function (convert a python Dict to Json-String) "
   ]
  },
  {
   "cell_type": "code",
   "execution_count": null,
   "metadata": {},
   "outputs": [],
   "source": [
    "# x is a python dict\n",
    "xdict= {'name':'Kent','Last_Name':'Kent','age':33}\n",
    "\n",
    "# From python dict to json with indent\n",
    "xjson = json.dumps(xdict,indent=2)\n",
    "print(xjson)"
   ]
  },
  {
   "cell_type": "markdown",
   "metadata": {},
   "source": [
    "### Cleaning a Json"
   ]
  },
  {
   "cell_type": "code",
   "execution_count": null,
   "metadata": {},
   "outputs": [],
   "source": [
    "# x is a python dict\n",
    "xdict= {'name':'Kent','last_Name':'Kent','age':33,'friends':{'Marie':'Best','John':'brother'}}\n",
    "\n",
    "# From python dict to json with indent\n",
    "xjson = json.dumps(xdict,indent=2)\n",
    "print(xjson)\n",
    "\n",
    "# From python dict to json with indent and sorting keys\n",
    "xjson = json.dumps(xdict,indent=2,sort_keys=True)\n",
    "print(xjson)"
   ]
  },
  {
   "cell_type": "markdown",
   "metadata": {},
   "source": [
    "### Json like --> dict --> json like string"
   ]
  },
  {
   "cell_type": "code",
   "execution_count": null,
   "metadata": {},
   "outputs": [],
   "source": [
    "x_json =  '{ \"name\":\"John\", \"age\":30, \"city\":\"New York\"}'\n",
    "print(type(x_json))\n",
    "\n",
    "x_dict =json.loads(x_json)\n",
    "for key,value in x_dict.items() : \n",
    "    print(f'{key} : {value}')\n",
    "\n",
    "y_json=json.dumps(x_dict)\n",
    "print(f'the type of y_json is {type(y_json)}, has a value of : {y_json}')\n",
    "\n",
    "x_dict2=json.loads(y_json)\n",
    "for key,value in x_dict2.items() : \n",
    "    print(f'{key} : {value}')\n"
   ]
  },
  {
   "cell_type": "markdown",
   "metadata": {},
   "source": [
    "### function to get something postable on qps"
   ]
  },
  {
   "cell_type": "code",
   "execution_count": null,
   "metadata": {},
   "outputs": [],
   "source": [
    "payload_str='{ \"name\":\"John\", \"age\":30, \"city\":\"New York\"}'\n",
    "wrong_payload_str='{ \"name\";\"John\", \"age\":30, \"city\":\"New York\"}'\n",
    "payload_dict={ \"name\":\"John\", \"age\":30, \"city\":\"New York\"}\n",
    "payload_int=5\n",
    "\n",
    "wrong_parsed_str=parse_payload(wrong_payload_str)\n",
    "parsed_str=parse_payload(payload_str)\n",
    "parsed_dict=parse_payload(payload_dict)\n",
    "parsed_int=parse_payload(payload_int)\n",
    "\n",
    "print(f'Type of parse_payload of wrong_parsed_str is {type(wrong_parsed_str)} with value : {wrong_parsed_str}')\n",
    "print(f'Type of parse_payload of payload_str is {type(parsed_str)} with value : {payload_str.strip()}')\n",
    "print(f'Type of parse_payload of payload_dict is {type(parsed_dict)} with value : {parsed_dict.strip()}')\n",
    "print(f'Type of parse_payload of payload_int is {type(parsed_int)} with value : {parsed_int}')\n",
    "\n",
    "\n",
    "print(parsed_str.strip()==parsed_dict.strip())\n",
    "\n"
   ]
  },
  {
   "cell_type": "markdown",
   "metadata": {},
   "source": [
    "## LOAD method, loads a json file to a python object\n",
    "#### (load json from a file , loads from a string)"
   ]
  },
  {
   "cell_type": "code",
   "execution_count": null,
   "metadata": {},
   "outputs": [],
   "source": [
    "with open ('states.json') as f :\n",
    "    data=json.load(f)\n",
    "\n",
    "for state in data['states']:\n",
    "    print(state)  "
   ]
  },
  {
   "cell_type": "markdown",
   "metadata": {},
   "source": [
    "## DUMP method \n",
    "#### (write a python dict to a file as a json-string)"
   ]
  },
  {
   "cell_type": "code",
   "execution_count": null,
   "metadata": {},
   "outputs": [],
   "source": [
    "#genrating a new json file fom a dict\n",
    "\n",
    "#  modifying the data python dict\n",
    "for state in data['states']:\n",
    "    del state['area_codes']\n",
    "\n",
    "with open ('new_states_not_readable.json','w') as f:\n",
    "    json.dump(data,f)\n",
    "    #this is hard to read \n",
    "\n",
    "with open ('new_states.json','w') as f:\n",
    "    json.dump(data,f,indent=2)\n",
    "    #this is hard to read     \n"
   ]
  },
  {
   "cell_type": "markdown",
   "metadata": {},
   "source": [
    "# REAL WORD EXAMPLE"
   ]
  },
  {
   "cell_type": "markdown",
   "metadata": {},
   "source": [
    "### Requesting qps commo"
   ]
  },
  {
   "cell_type": "code",
   "execution_count": null,
   "metadata": {},
   "outputs": [],
   "source": [
    "import json\n",
    "url_to_post =\"https://finance.yahoo.com/webservice/v1/symbols/allcurrencies/quote?format=json\"\n",
    "\n",
    "response = post_request_to_qps(url_to_post,{},{})\n",
    "# print(type(response))\n",
    "\n",
    "print(response.status_code)\n",
    "print(response.text)\n",
    "print(response.json())\n",
    "\n",
    "# usd_rates = dict()\n",
    "\n",
    "# for item in data['list']['resources']:\n",
    "#     name = item['resource']['fields']['name']\n",
    "#     price = item['resource']['fields']['price']\n",
    "#     usd_rates[name] = price\n",
    "\n",
    "# print(50 * float(usd_rates['USD/INR']))"
   ]
  }
 ],
 "metadata": {
  "interpreter": {
   "hash": "30a3bf83bf8c9f72f4772ed23899ddb3dd89cc8af54025f6620e73eeaa01f66b"
  },
  "kernelspec": {
   "display_name": "Python 3.9.5 64-bit",
   "name": "python3"
  },
  "language_info": {
   "codemirror_mode": {
    "name": "ipython",
    "version": 3
   },
   "file_extension": ".py",
   "mimetype": "text/x-python",
   "name": "python",
   "nbconvert_exporter": "python",
   "pygments_lexer": "ipython3",
   "version": "3.9.5"
  },
  "orig_nbformat": 4
 },
 "nbformat": 4,
 "nbformat_minor": 2
}
