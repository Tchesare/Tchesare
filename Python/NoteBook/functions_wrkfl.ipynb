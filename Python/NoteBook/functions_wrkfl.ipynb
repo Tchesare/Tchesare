{
 "cells": [
  {
   "cell_type": "markdown",
   "metadata": {},
   "source": [
    "# Functions"
   ]
  },
  {
   "cell_type": "markdown",
   "metadata": {},
   "source": [
    "### Postional required  arguments"
   ]
  },
  {
   "cell_type": "code",
   "execution_count": null,
   "metadata": {},
   "outputs": [],
   "source": [
    "def hello_func(greeting):\n",
    "    return f'{greeting}'\n",
    "\n",
    "#prints the argument\n",
    "print(hello_func('Hello !'))\n",
    "\n",
    "#Sends an error as no argument\n",
    "print(hello_func())"
   ]
  },
  {
   "cell_type": "markdown",
   "metadata": {},
   "source": [
    "### Default value arguments"
   ]
  },
  {
   "cell_type": "code",
   "execution_count": null,
   "metadata": {},
   "outputs": [],
   "source": [
    "def hello_func(greeting,name = 'Kamel'):\n",
    "    return f'{greeting} {name} !'\n",
    "\n",
    "#not overriding the name, using default value\n",
    "print(hello_func('Hello'))    \n",
    "\n",
    "#Overrding the default value\n",
    "print(hello_func('Hello','John'))    "
   ]
  },
  {
   "cell_type": "markdown",
   "metadata": {},
   "source": [
    "### Using *arg and *kwargs "
   ]
  },
  {
   "cell_type": "code",
   "execution_count": 21,
   "metadata": {},
   "outputs": [
    {
     "name": "stdout",
     "output_type": "stream",
     "text": [
      "args are positional arguments as a tuple\n",
      "('John', 25)\n",
      "None\n",
      "kwargs are optional arguments, listed as a dict\n",
      "{'name': 'Alice', 'age': 25, 'name2': 'Bob', 'age2': 30}\n",
      "None\n",
      "optional plus positional arguments\n",
      "('John', 25)\n",
      "{'name': 'Alice', 'age': 25}\n",
      "None\n"
     ]
    }
   ],
   "source": [
    "# def student_info(*args,**kwargs):\n",
    "#     return f'*args(positional args) are : {args}, kwargs(optional args) are :{kwargs} !'\n",
    "\n",
    "##############################Args\n",
    "def student_info_args(*args):\n",
    "    print (args)\n",
    "\n",
    "print('args are positional arguments as a tuple')\n",
    "print(student_info_args('John',25))\n",
    "\n",
    "\n",
    "##################@@@@@@@@@@##Kwargs    \n",
    "def student_info_kwargs(**kwargs):\n",
    "    print (kwargs)\n",
    "\n",
    "print('kwargs are optional arguments, listed as a dict')\n",
    "print(student_info_kwargs(name='Alice',age= 25,name2='Bob',age2=30))\n",
    "\n",
    "#########################Args and Kwargs\n",
    "def student_info(*args,**kwargs):\n",
    "    print (args)\n",
    "    print (kwargs)\n",
    " \n",
    "print('optional plus positional arguments') \n",
    "print(student_info('John',25,name='Alice',age= 25))"
   ]
  },
  {
   "cell_type": "markdown",
   "metadata": {},
   "source": [
    "### Passing arguments as lsit and arguments to a arg and kwarg arguments"
   ]
  },
  {
   "cell_type": "code",
   "execution_count": 28,
   "metadata": {},
   "outputs": [
    {
     "name": "stdout",
     "output_type": "stream",
     "text": [
      "positional args are : ('Alice', 'Bob'), optional args are :{'age': '29'} !\n"
     ]
    }
   ],
   "source": [
    "########################Args and Kwargs\n",
    "def student_info(*args,**kwargs):\n",
    "    return f'positional args are : {args}, optional args are :{kwargs} !'\n",
    "\n",
    "positional_args=['Alice','Bob']\n",
    "optional_args={'age':'25','age':'32','age':'29'}\n",
    "\n",
    "#Unpacking elements of list(args) and dict(kwargs)\n",
    "print(student_info(*positional_args,**optional_args))"
   ]
  },
  {
   "cell_type": "code",
   "execution_count": 29,
   "metadata": {},
   "outputs": [],
   "source": []
  }
 ],
 "metadata": {
  "interpreter": {
   "hash": "30a3bf83bf8c9f72f4772ed23899ddb3dd89cc8af54025f6620e73eeaa01f66b"
  },
  "kernelspec": {
   "display_name": "Python 3.9.5 64-bit",
   "name": "python3"
  },
  "language_info": {
   "codemirror_mode": {
    "name": "ipython",
    "version": 3
   },
   "file_extension": ".py",
   "mimetype": "text/x-python",
   "name": "python",
   "nbconvert_exporter": "python",
   "pygments_lexer": "ipython3",
   "version": "3.9.5"
  },
  "orig_nbformat": 4
 },
 "nbformat": 4,
 "nbformat_minor": 2
}
