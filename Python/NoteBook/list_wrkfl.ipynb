{
 "cells": [
  {
   "cell_type": "markdown",
   "metadata": {},
   "source": [
    "# LISTS"
   ]
  },
  {
   "cell_type": "markdown",
   "metadata": {},
   "source": [
    "### accessing Lists"
   ]
  },
  {
   "cell_type": "code",
   "execution_count": null,
   "metadata": {},
   "outputs": [],
   "source": [
    "courses = ['History','Math','Physics','CompSci']\n",
    "\n",
    "#first element\n",
    "print(courses[0])\n",
    "\n",
    "#first last element\n",
    "print(courses[-1])\n",
    "\n",
    "#first 2 fuirst element\n",
    "print(courses[0:2])\n",
    "\n",
    "# element from 2\n",
    "print(courses[2:])"
   ]
  },
  {
   "cell_type": "markdown",
   "metadata": {},
   "source": [
    "### Modify lists"
   ]
  },
  {
   "cell_type": "code",
   "execution_count": null,
   "metadata": {},
   "outputs": [],
   "source": [
    "# add at the end\n",
    "courses.append('Art')\n",
    "print(courses)\n",
    "\n",
    "# add at the position of your choice\n",
    "courses.insert(0,'Soccer')\n",
    "print(courses)"
   ]
  },
  {
   "cell_type": "markdown",
   "metadata": {},
   "source": [
    "### Insert a list onto a list"
   ]
  },
  {
   "cell_type": "code",
   "execution_count": null,
   "metadata": {},
   "outputs": [],
   "source": [
    "courses = ['History','Math','Physics','CompSci']\n",
    "courses_2=['Art','Education']\n",
    "\n",
    "courses.insert(0,courses_2)\n",
    "print(courses)\n",
    "\n",
    "#Extend method\n",
    "courses = ['History','Math','Physics','CompSci']\n",
    "courses.extend(courses_2)\n",
    "print(courses)"
   ]
  },
  {
   "cell_type": "markdown",
   "metadata": {},
   "source": [
    "### REmove values"
   ]
  },
  {
   "cell_type": "code",
   "execution_count": null,
   "metadata": {},
   "outputs": [],
   "source": [
    "#remove\n",
    "courses = ['History','Math','Physics','CompSci']\n",
    "courses.remove('History')\n",
    "print(courses)\n",
    "\n",
    "#pop\n",
    "courses = ['History','Math','Physics','CompSci']\n",
    "print(courses)\n",
    "popped = courses.pop() #remobve the last element \n",
    "print(f'popped value --> {popped}')\n",
    "print(f'New courses list is {courses}')"
   ]
  },
  {
   "cell_type": "markdown",
   "metadata": {},
   "source": [
    "### Remove duplicates"
   ]
  },
  {
   "cell_type": "code",
   "execution_count": null,
   "metadata": {},
   "outputs": [],
   "source": [
    "import numpy as np\n",
    "my_list = [1,2,2,3,1,4,5,1,2,6]\n",
    "myFinalList = np.unique(my_list).tolist()\n",
    "print(myFinalList)"
   ]
  },
  {
   "cell_type": "markdown",
   "metadata": {},
   "source": [
    "### Sort , reverse methods"
   ]
  },
  {
   "cell_type": "code",
   "execution_count": null,
   "metadata": {},
   "outputs": [],
   "source": [
    "#reverse\n",
    "courses = ['History','Math','Physics','CompSci']\n",
    "courses.reverse()\n",
    "print(f'reversed list : {courses}')\n",
    "\n",
    "\n",
    "#soprt\n",
    "courses = ['History','Math','Physics','CompSci']\n",
    "courses.sort()\n",
    "print(f'sorted list : {courses}')\n",
    "\n",
    "# com=bine sort and reverse \n",
    "nums=[1,5,3,4,2]\n",
    "nums.sort(reverse=True)\n",
    "print(f'reverse and sorted list of num is {nums}')"
   ]
  },
  {
   "cell_type": "markdown",
   "metadata": {},
   "source": [
    "### Sorted function"
   ]
  },
  {
   "cell_type": "code",
   "execution_count": null,
   "metadata": {},
   "outputs": [],
   "source": [
    "#reverse\n",
    "courses = ['History','Math','Physics','CompSci']\n",
    "courses_sorted = sorted(courses)\n",
    "print(f'sorted new list : {courses_sorted}')"
   ]
  },
  {
   "cell_type": "markdown",
   "metadata": {},
   "source": [
    "### Find value index in a list"
   ]
  },
  {
   "cell_type": "code",
   "execution_count": 3,
   "metadata": {},
   "outputs": [
    {
     "name": "stdout",
     "output_type": "stream",
     "text": [
      "index of Math is : 1\n",
      "History is in the list of courses: True at index 0\n",
      "Math is in the list of courses: True at index 1\n",
      "Physics is in the list of courses: True at index 2\n",
      "CompSci is in the list of courses: True at index 3\n",
      "Chemistry is in the list of courses: False at index 4\n",
      "Geography is in the list of courses: False at index 5\n",
      "Boxing is in the list of courses: False at index 6\n"
     ]
    }
   ],
   "source": [
    "courses = ['History','Math','Physics','CompSci']\n",
    "disciplines = ['History','Math','Physics','CompSci','Chemistry','Geography','Boxing']\n",
    "\n",
    "math_index=courses.index('Math')\n",
    "print(f'index of Math is : {math_index}')\n",
    "\n",
    "# Is Art in the list?\n",
    "for item in disciplines :\n",
    "    bool_item = item in courses\n",
    "    print(f'{item} is in the list of courses: {bool_item} ')\n",
    "\n"
   ]
  },
  {
   "cell_type": "markdown",
   "metadata": {},
   "source": [
    "### Index and Lists usng enumerates"
   ]
  },
  {
   "cell_type": "code",
   "execution_count": 7,
   "metadata": {},
   "outputs": [
    {
     "name": "stdout",
     "output_type": "stream",
     "text": [
      "Enumerates takes a list like ['Paris', 'Alger', 'Kiev'] and send back a ist tuples (index,value) [(0, 'Paris'), (1, 'Alger'), (2, 'Kiev')]\n",
      "Paris 1\n",
      "Alger 2\n",
      "Kiev 3\n",
      "0 Paris\n",
      "1 Alger\n",
      "2 Kiev\n"
     ]
    }
   ],
   "source": [
    "cities=['Paris','Alger','Kiev']\n",
    "countries= ['France','Algerie','Ukrain']\n",
    "\n",
    "#Enumerates prduces a sequence of tuple like this:\n",
    "enum_cities = list(enumerate(cities))\n",
    "print(f'Enumerates takes a list like {cities} and send back a sequence of tuples (index,value) {enum_cities}')\n",
    "\n",
    "# No enumerates \n",
    "index = 1\n",
    "for city in cities : \n",
    "    print(city,index)\n",
    "    index+=1\n",
    "\n",
    "# With enumerates \n",
    "for index,city in enumerate(cities) :\n",
    "    print(index,city) \n",
    "\n"
   ]
  },
  {
   "cell_type": "markdown",
   "metadata": {},
   "source": [
    "### 2 lists"
   ]
  },
  {
   "cell_type": "code",
   "execution_count": null,
   "metadata": {},
   "outputs": [],
   "source": [
    "for index,city in enumerate(cities) :\n",
    "    country = countries[index]\n",
    "    print(f'{city} is the capital of {country}')\n",
    "\n",
    "print('*****************With ZIP****************** lists ')\n",
    "\n",
    "for city,country in zip(cities,countries) :\n",
    "    print(f'{city} is the capital of {country}')\n"
   ]
  },
  {
   "cell_type": "markdown",
   "metadata": {},
   "source": [
    "### String version of a list using join"
   ]
  },
  {
   "cell_type": "code",
   "execution_count": null,
   "metadata": {},
   "outputs": [],
   "source": [
    "courses = ['History','Math','Physics','CompSci']\n",
    "print(f'Initial value of courses {courses}')\n",
    "str_list = ' - '.join(courses)\n",
    "print(str_list)\n",
    "\n",
    "# reveerse the process, srting ot list\n",
    "new_courses = str_list.split(' - ')\n",
    "print(new_courses)"
   ]
  },
  {
   "cell_type": "markdown",
   "metadata": {},
   "source": [
    "# TUPLES (immutable equivalent of lists)"
   ]
  },
  {
   "cell_type": "code",
   "execution_count": null,
   "metadata": {},
   "outputs": [],
   "source": [
    "# List are mutable ex : \n",
    "list_1= ['History','Math','Physics','CompSci']\n",
    "list_2 = list_1\n",
    "\n",
    "list_1.append('Art')\n",
    "print(f'list_1 is {list_1}  \\nlist_2 is {list_2} \\nthey are the same even if I did not modified list_2')\n",
    "\n",
    "print('\\n')\n",
    "\n",
    "# List are mutable ex : \n",
    "tuple_1= ('History','Math','Physics','CompSci')\n",
    "tuple_2 = tuple_1\n",
    "\n",
    "print(f'we can not modify a tuple')\n",
    "tuple_1[0]='Art'\n",
    "\n"
   ]
  },
  {
   "cell_type": "markdown",
   "metadata": {},
   "source": [
    "# SETS"
   ]
  },
  {
   "cell_type": "markdown",
   "metadata": {},
   "source": [
    "### Sets are unordered and non duplicates, they are used to test to check if values are ina set"
   ]
  },
  {
   "cell_type": "code",
   "execution_count": null,
   "metadata": {},
   "outputs": [],
   "source": [
    "#Stes are unordered and non duplicates, they are used to test to check if values are ina set\n",
    "disciplines = ['History','Math','Physics','CompSci','Chemistry','Geography','Boxing']\n",
    "cs_courses= {'Math','Physics','CompSci'}\n",
    "print(cs_courses)\n",
    "\n",
    "# Is Art in the list?\n",
    "for item in disciplines :\n",
    "    bool_item = item in cs_courses\n",
    "    print(f'{item} is in the list of courses: {bool_item}')"
   ]
  },
  {
   "cell_type": "markdown",
   "metadata": {},
   "source": [
    "### Sets are good for intersections"
   ]
  },
  {
   "cell_type": "code",
   "execution_count": 8,
   "metadata": {},
   "outputs": [
    {
     "name": "stdout",
     "output_type": "stream",
     "text": [
      "The foolowing courses are common to the two schemes {'Math', 'Physics'}\n",
      "The foolowing courses are not common to the two scheme {'CompSci', 'Chemistry'}\n",
      "The foolowing courses are avilable on the two schmes {'Design', 'Art', 'CompSci', 'History', 'Chemistry', 'Math', 'Physics'}\n"
     ]
    }
   ],
   "source": [
    "cs_courses = {'Math','Physics','CompSci','Chemistry'}\n",
    "art_courses= {'History','Art','Design','Math','Physics'}\n",
    "\n",
    "inter = cs_courses.intersection(art_courses)\n",
    "print(f'The foolowing courses are common to the two schemes {inter}')\n",
    "\n",
    "inter_diff = cs_courses.difference(art_courses)\n",
    "print(f'The foolowing courses are not common to the two scheme {inter_diff}')\n",
    "\n",
    "union_cs = cs_courses.union(art_courses)\n",
    "print(f'The foolowing courses are avilable on the two schmes {union_cs}')"
   ]
  },
  {
   "cell_type": "markdown",
   "metadata": {},
   "source": [
    "### For Taya"
   ]
  },
  {
   "cell_type": "code",
   "execution_count": 89,
   "metadata": {},
   "outputs": [
    {
     "name": "stdout",
     "output_type": "stream",
     "text": [
      "[('USDGBP', 'ttkl'), ('USDGBP', 'icap'), ('USDGBP', 'tr'), ('EURCHF', 'ttkl'), ('EURCHF', 'icap'), ('EURCHF', 'tr'), ('EURJPY', 'ttkl'), ('EURJPY', 'icap'), ('EURJPY', 'tr')]\n",
      "[('USDGBP', 'ttkl'), ('EURCHF', 'icap'), ('EURJPY', 'tr')]\n"
     ]
    }
   ],
   "source": [
    "fx_cross =['USDGBP','EURCHF','EURJPY']\n",
    "contrib=['ttkl','icap','tr']\n",
    "\n",
    "my_list= [(code,contr) for code in fx_cross for contr in contrib]\n",
    "print(my_list)\n",
    "\n",
    "my_list2= [(code,contr) for code , contr in zip(fx_cross,contrib)]\n",
    "print(my_list2)\n"
   ]
  },
  {
   "cell_type": "code",
   "execution_count": 90,
   "metadata": {},
   "outputs": [
    {
     "name": "stdout",
     "output_type": "stream",
     "text": [
      "{'fxcross': '', 'contributor': '', 'on s en fout du reste': 1000}\n",
      "{'fxcross': 'USDGBP', 'contributor': 'ttkl', 'on s en fout du reste': 1000}\n",
      "{'fxcross': 'EURCHF', 'contributor': 'icap', 'on s en fout du reste': 1000}\n",
      "{'fxcross': 'EURJPY', 'contributor': 'tr', 'on s en fout du reste': 1000}\n"
     ]
    }
   ],
   "source": [
    "\n",
    "basic_req = {'fxcross':'','contributor':'','on s en fout du reste':1000}\n",
    "print(basic_req)\n",
    "\n",
    "resp_list=[]\n",
    "\n",
    "for code,contr in my_list2 : \n",
    "    basic_req['fxcross'] = code\n",
    "    basic_req['contributor'] = contr\n",
    "    #resposne  = send request\n",
    "    # transform resposne \n",
    "    #resp_list.append(transform)\n",
    "    print(basic_req)\n",
    "\n",
    "    "
   ]
  }
 ],
 "metadata": {
  "interpreter": {
   "hash": "30a3bf83bf8c9f72f4772ed23899ddb3dd89cc8af54025f6620e73eeaa01f66b"
  },
  "kernelspec": {
   "display_name": "Python 3.9.5 64-bit",
   "name": "python3"
  },
  "language_info": {
   "codemirror_mode": {
    "name": "ipython",
    "version": 3
   },
   "file_extension": ".py",
   "mimetype": "text/x-python",
   "name": "python",
   "nbconvert_exporter": "python",
   "pygments_lexer": "ipython3",
   "version": "3.9.5"
  },
  "orig_nbformat": 4
 },
 "nbformat": 4,
 "nbformat_minor": 2
}
