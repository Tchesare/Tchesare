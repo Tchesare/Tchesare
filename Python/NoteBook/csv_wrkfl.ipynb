{
 "cells": [
  {
   "cell_type": "markdown",
   "metadata": {},
   "source": [
    "# CSV"
   ]
  },
  {
   "cell_type": "code",
   "execution_count": null,
   "metadata": {},
   "outputs": [],
   "source": [
    "import csv\n",
    "# import sys\n",
    "# # sys.path.append(r\"C:\\VSCODE\\Python\\functions.py\")\n",
    "# sys.path.append(r\"C:\\VSCODE\\Python)#\\functions.py\")\n",
    "# # for x in sys.path:print(x)\n",
    "\n",
    "from importlib.machinery import SourceFileLoader # for import of functions.py\n",
    "\n",
    "my_functions = SourceFileLoader('my_functions', r'C:\\VsCode/Python/functions.py').load_module() \n",
    "from my_functions import load_json_from_file,post_request_to_qps,get_key_value_by_path,process_qps_response,zip_headers_data,read_content_file"
   ]
  },
  {
   "cell_type": "markdown",
   "metadata": {},
   "source": [
    "### Csv REader as an object"
   ]
  },
  {
   "cell_type": "code",
   "execution_count": null,
   "metadata": {},
   "outputs": [],
   "source": [
    "with open('names.csv', 'r') as csv_file:\n",
    "\n",
    "    csv_reader = csv.reader(csv_file) # csv_reader is an object that lives as the file is stil opened\n",
    "    \n",
    "print(type(csv_reader)) \n",
    "\n",
    "\n",
    "#TRy to print value outside the context manager\n",
    "try :\n",
    "    for line in csv_reader :\n",
    "        print(line)\n",
    "except ValueError as err :\n",
    "    print(err)     \n",
    "    \n",
    "#Can not print lines as the file is closed"
   ]
  },
  {
   "cell_type": "markdown",
   "metadata": {},
   "source": [
    "### Open Csv Files and print its lines"
   ]
  },
  {
   "cell_type": "code",
   "execution_count": null,
   "metadata": {},
   "outputs": [],
   "source": [
    "with open('names.csv', 'r') as csv_file:\n",
    "\n",
    "    csv_reader = csv.reader(csv_file) # csv_reader is an object that lives as the file is stil opened\n",
    "    \n",
    "    for line in csv_reader :\n",
    "        print(f'Type of line is {type(line)} with value : {line}')#each line is  a list \n",
    "        # in a csv file each line is a list \n"
   ]
  },
  {
   "cell_type": "markdown",
   "metadata": {},
   "source": [
    "### Open a csv file and copy its data to new csv file suing another delimiter"
   ]
  },
  {
   "cell_type": "code",
   "execution_count": null,
   "metadata": {},
   "outputs": [],
   "source": [
    "with open('names.csv', 'r') as csv_file:\n",
    "\n",
    "    #default delimiter is ,\n",
    "    csv_reader = csv.reader(csv_file) # csv_reader is an object that lives as the file is stil opened\n",
    "    \n",
    "    with open('new_names.csv','w') as new_file:\n",
    "\n",
    "        # csv_writer = csv.writer(new_file,delimiter='-')\n",
    "        csv_writer = csv.writer(new_file,delimiter='\\t')\n",
    "        \n",
    "        for line in csv_reader :\n",
    "                \n",
    "            my_line=f'Type of line is {type(line)} with value : {line}'#each line is  a dictionary, with keys as first line of the csv\n",
    "\n",
    "            csv_writer.writerow(line)\n",
    "#csv_reader is an object\n",
    "# print(csv_reader)  \n",
    "\n",
    "#"
   ]
  },
  {
   "cell_type": "markdown",
   "metadata": {},
   "source": [
    "### Reading the new file with the wrong delimiter"
   ]
  },
  {
   "cell_type": "code",
   "execution_count": null,
   "metadata": {},
   "outputs": [],
   "source": [
    "with open('new_names.csv', 'r') as csv_file:\n",
    "\n",
    "    csv_reader = csv.reader(csv_file) # csv_reader is an object that lives as the file is stil opened\n",
    "    \n",
    "    for line in csv_reader :\n",
    "        print(f'Type of line is {type(line)} with value : {line}')#each line is  a list wirh only one value \n",
    "\n",
    "\n"
   ]
  },
  {
   "cell_type": "markdown",
   "metadata": {},
   "source": [
    "### Using good delimiter"
   ]
  },
  {
   "cell_type": "code",
   "execution_count": null,
   "metadata": {},
   "outputs": [],
   "source": [
    "with open('new_names.csv', 'r') as csv_file:\n",
    "\n",
    "    csv_reader = csv.reader(csv_file,delimiter='\\t') # csv_reader is an object that lives as the file is stil opened\n",
    "    \n",
    "    for line in csv_reader :\n",
    "        print(f'Type of line is {type(line)} with value : {line}')#each line is  a list with several values value \n",
    "\n"
   ]
  },
  {
   "cell_type": "markdown",
   "metadata": {},
   "source": [
    "## Using Dictionnary reader of CSV"
   ]
  },
  {
   "cell_type": "code",
   "execution_count": null,
   "metadata": {},
   "outputs": [],
   "source": [
    "with open('names.csv', 'r') as csv_file:\n",
    "\n",
    "    csv_reader = csv.DictReader(csv_file) # csv_reader is an object that lives as the file is stil opened\n",
    "    \n",
    "    #each line is a dict with keys as the first row of the csv file\n",
    "    for line in csv_reader :\n",
    "        # print(f'Type of line is {type(line)} with value : {line}')#each line is  a list\n",
    "        #we can print any of the sub items of the lines\n",
    "        print(f'Name is {line[\"last_name\"]} , email is : {line[\"email\"]}') \n"
   ]
  },
  {
   "cell_type": "markdown",
   "metadata": {},
   "source": [
    "### Re-write a csv using the dict writer "
   ]
  },
  {
   "cell_type": "code",
   "execution_count": null,
   "metadata": {},
   "outputs": [],
   "source": [
    "with open('names.csv', 'r') as csv_file:\n",
    "\n",
    "    #each line is a dict\n",
    "    csv_reader = csv.DictReader(csv_file)\n",
    "    \n",
    "    with open('new_names_dict.csv','w') as new_file:\n",
    "\n",
    "        field_names=['first_name','last_name','email']\n",
    "\n",
    "        #Needs the keys we will write previously\n",
    "        csv_writer = csv.DictWriter(new_file,fieldnames=field_names,delimiter='\\t')\n",
    "\n",
    "        # csv_writer = csv.DictWriter(new_file,delimiter='\\t') -->generates an error\n",
    "\n",
    "        for line in csv_reader :\n",
    "                \n",
    "            # my_line=f'Type of line is {type(line)} with value : {line}'#each line is  a dictionary, with keys as first line of the csv\n",
    "            # del line['email']\n",
    "            csv_writer.writerow(line)"
   ]
  },
  {
   "cell_type": "code",
   "execution_count": null,
   "metadata": {},
   "outputs": [],
   "source": [
    "environment = \"dev\"\n",
    "environmentConfigs = {\n",
    "    \"dev\" : {\n",
    "        \"fx_option_host\": \"http://qps-valuationasl-204937-main-development.apt-preprod.aws-int.thomsonreuters.com/request/\"\n",
    "        # \"pricerHost\": \"http://qps-pricer-204484-main-development.apt-preprod.aws-int.thomsonreuters.com/api/calculate/price\"\n",
    "\n",
    "}}\n",
    "\n",
    "fx_option_host = environmentConfigs[environment][\"fx_option_host\"]\n",
    "my_headers = {\n",
    "    'Content-Type':'application/json',\n",
    "    'X-Tr-Uuid':'PAXTRA-645406493',\n",
    "    # 'x-tr-returnpricerrequest': \"true\"\n",
    "    'X-Tr-ApplicationId':'QPSInternal'\n",
    "}\n",
    "\n",
    "request_path = r\"C:\\VSCODE\\Python\\NoteBook\\commo_body.json\"\n",
    "\n",
    "fx_request=load_json_from_file(request_path)\n",
    "print(f'Type of fx_request is {type(fx_request)}')#' with a value of {fx_request}')\n",
    "\n",
    "fx_request_txt=read_content_file(request_path)\n",
    "print(f'Type of fx_request_txt is {type(fx_request_txt)}')#' with a value of {fx_request_txt}')\n",
    "\n",
    "response = post_request_to_qps(fx_option_host,fx_request,my_headers)\n",
    "response_txt = post_request_to_qps(fx_option_host,fx_request_txt,my_headers)\n",
    "\n",
    "a,b=process_qps_response(response,data_path='data[0]',headers_path='headers')   \n",
    "print(f'Headers : {a} \\nData: {b}')\n",
    "\n",
    "a_txt,b_txt=process_qps_response(response_txt,data_path='data[0]',headers_path='headers') \n",
    "print(f'Headers : {a_txt} \\nData: {b_txt}')\n",
    "\n",
    "# res=zip_headers_data(a,b)\n",
    "\n",
    "# print(res)\n",
    "# {'MarketValueInDealCcy': None, 'VolatilityPercent': None, 'VolatilityType': None, 'DeltaPercent': None}"
   ]
  },
  {
   "cell_type": "markdown",
   "metadata": {},
   "source": [
    "### Writing the qps response in a csv file"
   ]
  },
  {
   "cell_type": "code",
   "execution_count": 106,
   "metadata": {},
   "outputs": [],
   "source": [
    "headers= [{'type': 'Float', 'name': 'MarketValueInDealCcy'}, {'type': 'Float', 'name': 'VolatilityPercent'}, {'type': 'String', 'name': 'VolatilityType'}, {'type': 'Float', 'name': 'DeltaPercent'}] \n",
    "data=[[1.0, 2.0, 3.0, 4.0],[5,6,7,8,9]]\n",
    "\n",
    "with open('qps_csv.csv','w') as new_file:\n",
    "\n",
    "    # field_names=['headers','data']\n",
    "\n",
    "    #Needs the keys we will write previously\n",
    "    # csv_writer = csv.DictWriter(new_file,fieldnames=field_names,delimiter='\\t')\n",
    "    csv_writer = csv.writer(new_file)\n",
    "\n",
    "    # csv_writer = csv.DictWriter(new_file,delimiter='\\t') -->generates an error\n",
    "\n",
    "    #headers\n",
    "    csv_writer.writerow(headers)\n",
    "\n",
    "    for value in data:\n",
    "        \n",
    "        csv_writer.writerow(value)\n"
   ]
  },
  {
   "cell_type": "markdown",
   "metadata": {},
   "source": [
    "### REading back the data written "
   ]
  },
  {
   "cell_type": "code",
   "execution_count": null,
   "metadata": {},
   "outputs": [],
   "source": [
    "with open('qps_csv.csv','w') as my_file:"
   ]
  }
 ],
 "metadata": {
  "interpreter": {
   "hash": "30a3bf83bf8c9f72f4772ed23899ddb3dd89cc8af54025f6620e73eeaa01f66b"
  },
  "kernelspec": {
   "display_name": "Python 3.9.5 64-bit",
   "name": "python3"
  },
  "language_info": {
   "codemirror_mode": {
    "name": "ipython",
    "version": 3
   },
   "file_extension": ".py",
   "mimetype": "text/x-python",
   "name": "python",
   "nbconvert_exporter": "python",
   "pygments_lexer": "ipython3",
   "version": "3.9.5"
  },
  "orig_nbformat": 4
 },
 "nbformat": 4,
 "nbformat_minor": 2
}
