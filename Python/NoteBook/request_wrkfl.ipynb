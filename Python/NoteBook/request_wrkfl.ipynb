{
 "cells": [
  {
   "cell_type": "markdown",
   "metadata": {},
   "source": [
    "# REQUEST"
   ]
  },
  {
   "cell_type": "markdown",
   "metadata": {},
   "source": [
    "### Get"
   ]
  },
  {
   "cell_type": "code",
   "execution_count": 7,
   "metadata": {},
   "outputs": [
    {
     "name": "stdout",
     "output_type": "stream",
     "text": [
      "Imported functions.py module...\n"
     ]
    }
   ],
   "source": [
    "import requests\n",
    "import json\n",
    "\n",
    "from importlib.machinery import SourceFileLoader # for import of functions.py\n",
    "\n",
    "myFunctions = SourceFileLoader('myFunctions', r'C:\\VsCode/Python/functions.py').load_module() \n",
    "from myFunctions import load_json_from_file,post_request_to_qps,get_key_value_by_path,process_qps_response,zip_headers_data,read_content_file"
   ]
  },
  {
   "cell_type": "markdown",
   "metadata": {},
   "source": [
    "### Getting the source of website"
   ]
  },
  {
   "cell_type": "code",
   "execution_count": null,
   "metadata": {},
   "outputs": [],
   "source": [
    "url = 'http://xkcd.com/353/'\n",
    "\n",
    "response = requests.get(url)\n",
    "\n",
    "#Getting the details abou the response object\n",
    "print(dir(response))\n",
    "\n",
    "print('')\n",
    "\n",
    "#Explanation of the methods of the object\n",
    "print(help(response))\n",
    "\n",
    "print('')\n",
    "\n",
    "#status of the resposne 200 = ok / 300 = redirect / 400 =cleint error/ 500 server error\n",
    "print(response.status_code)\n",
    "\n",
    "#response headers\n",
    "print(response.headers)\n",
    "\n"
   ]
  },
  {
   "cell_type": "markdown",
   "metadata": {},
   "source": [
    "### Downloading the content of a url if any"
   ]
  },
  {
   "cell_type": "code",
   "execution_count": null,
   "metadata": {},
   "outputs": [],
   "source": [
    "url_content = 'http://xkcd.com/comics/python.png'\n",
    "\n",
    "response = requests.get(url_content)\n",
    "\n",
    "#get the content of the url\n",
    "image = response.content\n",
    "print(image) # image as byte text \n",
    "\n",
    "\n",
    "#saving the image as png\n",
    "with open(r'C:\\VSCODE\\Python\\NoteBook\\comics.png',mode='wb') as f : #mode= writebyte\n",
    "    f.write(image)"
   ]
  },
  {
   "cell_type": "markdown",
   "metadata": {},
   "source": [
    "## Using httpbin  to test different method "
   ]
  },
  {
   "cell_type": "code",
   "execution_count": null,
   "metadata": {},
   "outputs": [],
   "source": [
    "url_post = 'http://httpbin.org/post'\n",
    "\n",
    "payload= {'username':'Kham ','password' : 'Ehl','My_Array':{'A':1,'B':2}}\n",
    "\n",
    "r=requests.post(url_post,data=payload,headers={'UUID':'Kamel','key':'1234567890'})\n",
    "\n",
    "#In the form section of the json/text resposne all the key value pairs of the payload are posted\n",
    "#The headers are added\n",
    "\n",
    "r_text = r.text\n",
    "print(r_text)\n",
    "\n",
    "#WE can use the json() method to get the dictionnary  value if any\n",
    "r_json = r.json()\n",
    "r_form=r_json['form']\n",
    "r_headers=r_json['headers']\n",
    "\n",
    "#Access to the posted data\n",
    "print(f'Posted payload is stored in the form key of the reponse : {r_form}')\n",
    "\n",
    "#Access to the posted headers\n",
    "print(f'Posted headers is stored in the form key of the reponse : {r_headers}')"
   ]
  },
  {
   "cell_type": "markdown",
   "metadata": {},
   "source": [
    "### For Qps Commo"
   ]
  },
  {
   "cell_type": "code",
   "execution_count": 12,
   "metadata": {},
   "outputs": [
    {
     "name": "stdout",
     "output_type": "stream",
     "text": [
      "Type of fx_request is <class 'dict'>\n",
      "Type of fx_request_txt is <class 'str'>\n",
      "Headers : [{'type': 'Float', 'name': 'MarketValueInDealCcy'}, {'type': 'Float', 'name': 'VolatilityPercent'}, {'type': 'String', 'name': 'VolatilityType'}, {'type': 'Float', 'name': 'DeltaPercent'}] \n",
      "Data: [19.2551737449298, 33.2331833007102, 'Historical', -0.70489955205168]\n",
      "Headers : [{'type': 'Float', 'name': 'MarketValueInDealCcy'}, {'type': 'Float', 'name': 'VolatilityPercent'}, {'type': 'String', 'name': 'VolatilityType'}, {'type': 'Float', 'name': 'DeltaPercent'}] \n",
      "Data: [19.2551737449298, 33.2331833007102, 'Historical', -0.70489955205168]\n"
     ]
    }
   ],
   "source": [
    "environment = \"dev\"\n",
    "environmentConfigs = {\n",
    "    \"dev\" : {\n",
    "        \"fx_option_host\": \"http://qps-valuationasl-204937-main-development.apt-preprod.aws-int.thomsonreuters.com/request/\"\n",
    "        # \"pricerHost\": \"http://qps-pricer-204484-main-development.apt-preprod.aws-int.thomsonreuters.com/api/calculate/price\"\n",
    "\n",
    "}}\n",
    "\n",
    "fx_option_host = environmentConfigs[environment][\"fx_option_host\"]\n",
    "my_headers = {\n",
    "    'Content-Type':'application/json',\n",
    "    'X-Tr-Uuid':'PAXTRA-645406493',\n",
    "    # 'x-tr-returnpricerrequest': \"true\"\n",
    "    'X-Tr-ApplicationId':'QPSInternal'\n",
    "}\n",
    "\n",
    "request_path = r\"C:\\VSCODE\\Python\\NoteBook\\commo_body.json\"\n",
    "\n",
    "fx_request=load_json_from_file(request_path)\n",
    "print(f'Type of fx_request is {type(fx_request)}')#' with a value of {fx_request}')\n",
    "\n",
    "fx_request_txt=read_content_file(request_path)\n",
    "print(f'Type of fx_request_txt is {type(fx_request_txt)}')#' with a value of {fx_request_txt}')\n",
    "\n",
    "response = post_request_to_qps(fx_option_host,fx_request,my_headers)\n",
    "response_txt = post_request_to_qps(fx_option_host,fx_request_txt,my_headers)\n",
    "\n",
    "a,b=process_qps_response(response,data_path='data[0]',headers_path='headers')   \n",
    "print(f'Headers : {a} \\nData: {b}')\n",
    "\n",
    "a_txt,b_txt=process_qps_response(response_txt,data_path='data[0]',headers_path='headers') \n",
    "print(f'Headers : {a_txt} \\nData: {b_txt}')\n",
    "\n",
    "# res=zip_headers_data(a,b)\n",
    "\n",
    "# print(res)\n",
    "# {'MarketValueInDealCcy': None, 'VolatilityPercent': None, 'VolatilityType': None, 'DeltaPercent': None}"
   ]
  },
  {
   "cell_type": "markdown",
   "metadata": {},
   "source": [
    "### IRD Request"
   ]
  },
  {
   "cell_type": "code",
   "execution_count": null,
   "metadata": {},
   "outputs": [],
   "source": [
    "basic_req = {\"universe\": \n",
    "    [{\"underlyingType\": \"Cap\", \"surfaceTag\": \"KamelShiftedCapSurface\",\n",
    "         \"underlyingDefinition\": \n",
    "         {\"instrumentCode\": \"EUR\", \"referenceCapletTenor\": \"1M\"},\n",
    "          \"surfaceLayout\": {\"format\": \"Matrix\"}, \n",
    "          \"surfaceParameters\":\n",
    "           {\"calculationDate\": \"2020-10-01\", \"xAxis\": \"Strike\", \"yAxis\": \"Tenor\", \"zAxis\": \"Expiry\"}, \n",
    "           \"outputs\": [\"Description\", \"Data\", \"ForwardCurve\", \"DiscountCurve\", \"CalibrationParameters\", \"ErrorMessage\"],\n",
    "             \"shiftScenarios\": [{\"shiftTag\": \"Kamel_Shift_Scenario\",\n",
    "              \"parRateShift\": {\"interestRateInstruments\": \n",
    "              {\"EUR\": {\"All\": {\"all\": {\"parallelShift\":\n",
    "               {\"amount\": 0.0, \"shiftType\": \"Additive\"}}}}}}}]}]}\n",
    "\n",
    "''' Curve service settings Settings '''\n",
    "volSurfHost=\"http://qps-volsurfaceasl-205484-main-preproduction.apt-preprod.aws-int.thomsonreuters.com/request/\"\n",
    "my_headers={'Content-Type':'application/json','X-Tr-Uuid':'PAXTRA-645406493','x-tr-returnPricerRequest':'true'}\n",
    "\n",
    "#Invalid URL \n",
    "r_invalid_url=post_request_to_qps('kjhkjhkjhkhkj',basic_req,my_headers)\n",
    "print(r_invalid_url)\n",
    "\n",
    "#good request\n",
    "r=post_request_to_qps(volSurfHost,basic_req,my_headers)\n",
    "# print(r.json())\n",
    "\n",
    "a,b=process_qps_response(r,data_path='data[0].pricerRequest.marketDataDefinition.forwardCurveDefinition.id',headers_path='headers')  \n",
    "print(a,b)\n",
    "\n"
   ]
  },
  {
   "cell_type": "markdown",
   "metadata": {},
   "source": [
    "### My Functions using httpbin\n",
    "\n"
   ]
  },
  {
   "cell_type": "code",
   "execution_count": null,
   "metadata": {},
   "outputs": [],
   "source": [
    "url_post = 'http://httpbin.org/post'\n",
    "\n",
    "payload= {'username':'Kham ','password' : 'Ehl','Else':{'A':1,'B':2}}\n",
    "\n",
    "r=post_request_to_qps(url_post,payload,{'UUid':'Kamel'})\n",
    "\n",
    "print(r.text)"
   ]
  },
  {
   "cell_type": "markdown",
   "metadata": {},
   "source": [
    "### Reading request from file"
   ]
  }
 ],
 "metadata": {
  "interpreter": {
   "hash": "30a3bf83bf8c9f72f4772ed23899ddb3dd89cc8af54025f6620e73eeaa01f66b"
  },
  "kernelspec": {
   "display_name": "Python 3.9.5 64-bit",
   "name": "python3"
  },
  "language_info": {
   "codemirror_mode": {
    "name": "ipython",
    "version": 3
   },
   "file_extension": ".py",
   "mimetype": "text/x-python",
   "name": "python",
   "nbconvert_exporter": "python",
   "pygments_lexer": "ipython3",
   "version": "3.9.5"
  },
  "orig_nbformat": 4
 },
 "nbformat": 4,
 "nbformat_minor": 2
}
